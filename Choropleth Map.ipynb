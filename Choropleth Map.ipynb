{
 "cells": [
  {
   "cell_type": "code",
   "execution_count": null,
   "metadata": {},
   "outputs": [],
   "source": [
    "import json\n",
    "import plotly.express as px\n",
    "import pandas as pd\n",
    "import numpy as np\n",
    "\n",
    "# REPLACE THIS WITH YOUR FILENAME\n",
    "filename = 'fakedata.csv'\n",
    "xname = 'name'\n",
    "yname = 'values'\n",
    "colorscale = px.colors.sequential.YlGn\n",
    "# To see available colors visit: https://plotly.com/python/builtin-colorscales/\n",
    "\n",
    "with open('lad.json') as json_file:\n",
    "    countiesUK = json.load(json_file)\n",
    "    \n",
    "df = pd.read_csv(filename,header=0)\n",
    "N=len(countiesUK[\"features\"])\n",
    "df2 = pd.DataFrame()\n",
    "names = []\n",
    "for i in range(N):\n",
    "    name = countiesUK[\"features\"][i]['properties']['LAD13NM']\n",
    "    if name not in df[xname].values: names.append(name)\n",
    "df2[xname] = names\n",
    "cases = np.zeros(len(names))\n",
    "df2[yname] = cases\n",
    "df = df.append(df2)\n",
    "fig = px.choropleth(df, geojson=countiesUK, color=yname,\n",
    "                    locations=xname, featureidkey=\"properties.LAD13NM\",\n",
    "                    projection=\"mercator\", \n",
    "                    color_continuous_scale= colorscale\n",
    "                   )\n",
    "fig.update_geos(fitbounds=\"locations\", visible=False)\n",
    "fig.update_layout(margin={\"r\":0,\"t\":0,\"l\":0,\"b\":0})\n",
    "fig.show()"
   ]
  }
 ],
 "metadata": {
  "kernelspec": {
   "display_name": "Python 3",
   "language": "python",
   "name": "python3"
  },
  "language_info": {
   "codemirror_mode": {
    "name": "ipython",
    "version": 3
   },
   "file_extension": ".py",
   "mimetype": "text/x-python",
   "name": "python",
   "nbconvert_exporter": "python",
   "pygments_lexer": "ipython3",
   "version": "3.6.9"
  }
 },
 "nbformat": 4,
 "nbformat_minor": 2
}
